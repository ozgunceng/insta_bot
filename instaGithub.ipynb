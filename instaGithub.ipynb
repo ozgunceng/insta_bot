{
 "cells": [
  {
   "cell_type": "code",
   "execution_count": null,
   "metadata": {},
   "outputs": [],
   "source": [
    "from selenium import webdriver\n",
    "from selenium.webdriver.common.keys import Keys\n",
    "from selenium.webdriver.support import expected_conditions as EC\n",
    "from selenium.webdriver.common.by import By\n",
    "from selenium.webdriver.support.wait import WebDriverWait\n",
    "import time \n",
    "\n",
    "from selenium.webdriver.common.action_chains import ActionChains\n",
    "from selenium.webdriver.common.keys import Keys\n",
    "\n",
    "action = ActionChains(driver)\n",
    "action.send_keys(Keys.RIGHT)\n",
    "action.perform()\n",
    "\n",
    "driver = webdriver.Chrome(\"D:/chromedriver.exe\")\n",
    "driver.get(\"https://instagram.com\")\n",
    "\n",
    "\n",
    "userlist ={}\n",
    "\n",
    "userlist[0]={\"user\":\"writehere\",\"pass\":\"writehere\"}\n",
    "userlist[1]={\"user\":\"writehere\",\"pass\":\"writehere\"}\n",
    "\n",
    "\n",
    "for i in range(0, len(userlist)):\n",
    "    time.sleep(2)\n",
    "    username = driver.find_element_by_xpath(\"//*[@id='loginForm']/div/div[1]/div/label/input\")\n",
    "    password = driver.find_element_by_xpath(\"//*[@id='loginForm']/div/div[2]/div/label/input\")\n",
    "    username.send_keys(userlist[i]['user'])\n",
    "    password.send_keys(userlist[i]['pass'])\n",
    "    time.sleep(2)\n",
    "    submit = driver.find_element_by_xpath(\"//*[@id='loginForm']/div/div[3]/button\").click()\n",
    "    time.sleep(4)\n",
    "        \n",
    "        \n",
    "    notNow = driver.find_element_by_xpath(\"/html/body/div[5]/div/div/div/div[3]/button[2]\").click()\n",
    "    time.sleep(1)\n",
    "\n",
    "    driver.get(\"https://www.instagram.com/writeProfileLinkHere/\")\n",
    "    \n",
    "    firstPic = driver.find_element_by_xpath(\"//*[@id='react-root']/section/main/div/div[2]/article/div/div/div[1]/div[1]/a/div[1]/div[2]\").click()\n",
    "        \n",
    "    try:\n",
    "        for i in range(0,15):\n",
    "            time.sleep(2)\n",
    "            like = driver.find_element_by_xpath(\"/html/body/div[6]/div[2]/div/article/div[3]/section[1]/span[1]/button\").click()\n",
    "            time.sleep(2)\n",
    "            action.perform()\n",
    "    except:\n",
    "        print(\"done\")\n",
    "    \n",
    "    driver.get(\"https://instagram.com/accounts/logout\")\n",
    "    driver.get(\"https://www.instagram.com\")\n",
    "    time.sleep(2)\n",
    "        "
   ]
  }
 ],
 "metadata": {
  "kernelspec": {
   "display_name": "Python 3",
   "language": "python",
   "name": "python3"
  },
  "language_info": {
   "codemirror_mode": {
    "name": "ipython",
    "version": 3
   },
   "file_extension": ".py",
   "mimetype": "text/x-python",
   "name": "python",
   "nbconvert_exporter": "python",
   "pygments_lexer": "ipython3",
   "version": "3.7.7"
  }
 },
 "nbformat": 4,
 "nbformat_minor": 4
}
